{
  "cells": [
    {
      "cell_type": "markdown",
      "metadata": {
        "id": "dRleqDF-rBW2"
      },
      "source": [
        "# Incorporate Lexical Quality Metrics"
      ]
    },
    {
      "cell_type": "markdown",
      "metadata": {
        "id": "kL7m5ukzrBW4"
      },
      "source": [
        "## 1. Install required dependencies\n"
      ]
    },
    {
      "cell_type": "markdown",
      "metadata": {
        "id": "nLjVgzz0rBW4"
      },
      "source": [
        "You can use `pip` to install all packages required for this tutorial as follows:\n",
        "\n",
        "```ipython3\n",
        "!pip install sentence-transformers\n",
        "!pip install cleanlab\n",
        "# Make sure to install the version corresponding to this tutorial\n",
        "# E.g. if viewing master branch documentation:\n",
        "#     !pip install git+https://github.com/cleanlab/cleanlab.git\n",
        "```"
      ]
    },
    {
      "cell_type": "code",
      "execution_count": 2,
      "metadata": {
        "execution": {
          "iopub.execute_input": "2024-09-26T16:49:07.438945Z",
          "iopub.status.busy": "2024-09-26T16:49:07.438486Z",
          "iopub.status.idle": "2024-09-26T16:49:10.586154Z",
          "shell.execute_reply": "2024-09-26T16:49:10.585508Z"
        },
        "id": "Owqnx3MJrBW4",
        "nbsphinx": "hidden"
      },
      "outputs": [
        {
          "name": "stderr",
          "output_type": "stream",
          "text": [
            "/Users/adib/Desktop/Codes/cleanlab/ENV/lib/python3.11/site-packages/tqdm/auto.py:21: TqdmWarning: IProgress not found. Please update jupyter and ipywidgets. See https://ipywidgets.readthedocs.io/en/stable/user_install.html\n",
            "  from .autonotebook import tqdm as notebook_tqdm\n"
          ]
        }
      ],
      "source": [
        "# Package installation (hidden on docs.cleanlab.ai).\n",
        "# If running on Colab, may want to use GPU (select: Runtime > Change runtime type > Hardware accelerator > GPU)\n",
        "# Package versions we used:scikit-learn==1.2.0 sentence-transformers==2.2.2\n",
        "\n",
        "dependencies = [\"cleanlab\", \"sentence_transformers\"]\n",
        "\n",
        "# Supress outputs that may appear if tensorflow happens to be improperly installed:\n",
        "import os\n",
        "os.environ[\"TOKENIZERS_PARALLELISM\"] = \"false\"  # disable parallelism to avoid deadlocks with huggingface\n",
        "\n",
        "if \"google.colab\" in str(get_ipython()):  # Check if it's running in Google Colab\n",
        "    %pip install cleanlab==v2.7.0\n",
        "    cmd = ' '.join([dep for dep in dependencies if dep != \"cleanlab\"])\n",
        "    %pip install $cmd\n",
        "else:\n",
        "    dependencies_test = [dependency.split('>')[0] if '>' in dependency\n",
        "                         else dependency.split('<')[0] if '<' in dependency\n",
        "                         else dependency.split('=')[0] for dependency in dependencies]\n",
        "    missing_dependencies = []\n",
        "    for dependency in dependencies_test:\n",
        "        try:\n",
        "            __import__(dependency)\n",
        "        except ImportError:\n",
        "            missing_dependencies.append(dependency)\n",
        "\n",
        "    if len(missing_dependencies) > 0:\n",
        "        print(\"Missing required dependencies:\")\n",
        "        print(*missing_dependencies, sep=\", \")\n",
        "        print(\"\\nPlease install them before running the rest of this notebook.\")"
      ]
    },
    {
      "cell_type": "code",
      "execution_count": 3,
      "metadata": {
        "execution": {
          "iopub.execute_input": "2024-09-26T16:49:10.588412Z",
          "iopub.status.busy": "2024-09-26T16:49:10.587922Z",
          "iopub.status.idle": "2024-09-26T16:49:10.591406Z",
          "shell.execute_reply": "2024-09-26T16:49:10.590928Z"
        },
        "id": "oAMjNnS6rBW5"
      },
      "outputs": [],
      "source": [
        "import re\n",
        "import string\n",
        "import pandas as pd\n",
        "from sklearn.metrics import accuracy_score\n",
        "from sklearn.model_selection import train_test_split, cross_val_predict\n",
        "from sklearn.preprocessing import LabelEncoder\n",
        "from sklearn.linear_model import LogisticRegression\n",
        "from sentence_transformers import SentenceTransformer\n",
        "\n",
        "from cleanlab.classification import CleanLearning"
      ]
    },
    {
      "cell_type": "code",
      "execution_count": 4,
      "metadata": {
        "execution": {
          "iopub.execute_input": "2024-09-26T16:49:10.593012Z",
          "iopub.status.busy": "2024-09-26T16:49:10.592738Z",
          "iopub.status.idle": "2024-09-26T16:49:10.595864Z",
          "shell.execute_reply": "2024-09-26T16:49:10.595399Z"
        },
        "id": "JchgM4sErBW5",
        "nbsphinx": "hidden"
      },
      "outputs": [],
      "source": [
        "# This cell is hidden from docs.cleanlab.ai\n",
        "\n",
        "import random\n",
        "import numpy as np\n",
        "\n",
        "pd.set_option(\"display.max_colwidth\", None)\n",
        "\n",
        "SEED = 123456 # for reproducibility\n",
        "\n",
        "np.random.seed(SEED)\n",
        "random.seed(SEED)"
      ]
    },
    {
      "cell_type": "markdown",
      "metadata": {
        "id": "hjRBlb4zrBW5"
      },
      "source": [
        "## 2. Load and format the text dataset\n"
      ]
    },
    {
      "cell_type": "code",
      "execution_count": 5,
      "metadata": {
        "execution": {
          "iopub.execute_input": "2024-09-26T16:49:10.597502Z",
          "iopub.status.busy": "2024-09-26T16:49:10.597232Z",
          "iopub.status.idle": "2024-09-26T16:49:10.619458Z",
          "shell.execute_reply": "2024-09-26T16:49:10.618974Z"
        },
        "id": "vMZno4OyrBW6",
        "outputId": "3f7e6472-3b32-4fd0-89ab-c7f4032f1b68"
      },
      "outputs": [
        {
          "data": {
            "text/html": [
              "<div>\n",
              "<style scoped>\n",
              "    .dataframe tbody tr th:only-of-type {\n",
              "        vertical-align: middle;\n",
              "    }\n",
              "\n",
              "    .dataframe tbody tr th {\n",
              "        vertical-align: top;\n",
              "    }\n",
              "\n",
              "    .dataframe thead th {\n",
              "        text-align: right;\n",
              "    }\n",
              "</style>\n",
              "<table border=\"1\" class=\"dataframe\">\n",
              "  <thead>\n",
              "    <tr style=\"text-align: right;\">\n",
              "      <th></th>\n",
              "      <th>text</th>\n",
              "      <th>label</th>\n",
              "    </tr>\n",
              "  </thead>\n",
              "  <tbody>\n",
              "    <tr>\n",
              "      <th>0</th>\n",
              "      <td>i accidentally made a payment to a wrong account. what should i do?</td>\n",
              "      <td>cancel_transfer</td>\n",
              "    </tr>\n",
              "    <tr>\n",
              "      <th>1</th>\n",
              "      <td>i no longer want to transfer funds, can we cancel that transaction?</td>\n",
              "      <td>cancel_transfer</td>\n",
              "    </tr>\n",
              "    <tr>\n",
              "      <th>2</th>\n",
              "      <td>cancel my transfer, please.</td>\n",
              "      <td>cancel_transfer</td>\n",
              "    </tr>\n",
              "    <tr>\n",
              "      <th>3</th>\n",
              "      <td>i want to revert this mornings transaction.</td>\n",
              "      <td>cancel_transfer</td>\n",
              "    </tr>\n",
              "    <tr>\n",
              "      <th>4</th>\n",
              "      <td>i just realised i made the wrong payment yesterday. can you please change it to the right account? it's my rent payment and really really needs to be in the right account by tomorrow</td>\n",
              "      <td>cancel_transfer</td>\n",
              "    </tr>\n",
              "  </tbody>\n",
              "</table>\n",
              "</div>"
            ],
            "text/plain": [
              "                                                                                                                                                                                     text  \\\n",
              "0                                                                                                                     i accidentally made a payment to a wrong account. what should i do?   \n",
              "1                                                                                                                     i no longer want to transfer funds, can we cancel that transaction?   \n",
              "2                                                                                                                                                             cancel my transfer, please.   \n",
              "3                                                                                                                                             i want to revert this mornings transaction.   \n",
              "4  i just realised i made the wrong payment yesterday. can you please change it to the right account? it's my rent payment and really really needs to be in the right account by tomorrow   \n",
              "\n",
              "             label  \n",
              "0  cancel_transfer  \n",
              "1  cancel_transfer  \n",
              "2  cancel_transfer  \n",
              "3  cancel_transfer  \n",
              "4  cancel_transfer  "
            ]
          },
          "execution_count": 5,
          "metadata": {},
          "output_type": "execute_result"
        }
      ],
      "source": [
        "data = pd.read_csv(\"https://s.cleanlab.ai/banking-intent-classification.csv\")\n",
        "data.head()"
      ]
    },
    {
      "cell_type": "code",
      "execution_count": 6,
      "metadata": {
        "execution": {
          "iopub.execute_input": "2024-09-26T16:49:10.621203Z",
          "iopub.status.busy": "2024-09-26T16:49:10.620792Z",
          "iopub.status.idle": "2024-09-26T16:49:10.624512Z",
          "shell.execute_reply": "2024-09-26T16:49:10.623936Z"
        },
        "id": "tf1BBhVRrBW6"
      },
      "outputs": [],
      "source": [
        "raw_texts, raw_labels = data[\"text\"].values, data[\"label\"].values\n",
        "\n",
        "raw_train_texts, raw_test_texts, raw_train_labels, raw_test_labels = train_test_split(raw_texts, raw_labels, test_size=0.1)"
      ]
    },
    {
      "cell_type": "code",
      "execution_count": 7,
      "metadata": {
        "execution": {
          "iopub.execute_input": "2024-09-26T16:49:10.626154Z",
          "iopub.status.busy": "2024-09-26T16:49:10.625957Z",
          "iopub.status.idle": "2024-09-26T16:49:10.629550Z",
          "shell.execute_reply": "2024-09-26T16:49:10.629094Z"
        },
        "id": "YkAEf4ixrBW6",
        "outputId": "fdd7899a-d1ba-42c0-f2a0-bc9f3234b3a4"
      },
      "outputs": [
        {
          "name": "stdout",
          "output_type": "stream",
          "text": [
            "This dataset has 10 classes.\n",
            "Classes: {'apple_pay_or_google_pay', 'card_payment_fee_charged', 'beneficiary_not_allowed', 'change_pin', 'getting_spare_card', 'cancel_transfer', 'visa_or_mastercard', 'supported_cards_and_currencies', 'lost_or_stolen_phone', 'card_about_to_expire'}\n"
          ]
        }
      ],
      "source": [
        "num_classes = len(set(raw_train_labels))\n",
        "\n",
        "print(f\"This dataset has {num_classes} classes.\")\n",
        "print(f\"Classes: {set(raw_train_labels)}\")"
      ]
    },
    {
      "cell_type": "markdown",
      "metadata": {
        "id": "RI3wpNunrBW6"
      },
      "source": [
        "Let's print the first example in the train set."
      ]
    },
    {
      "cell_type": "code",
      "execution_count": 8,
      "metadata": {
        "execution": {
          "iopub.execute_input": "2024-09-26T16:49:10.631014Z",
          "iopub.status.busy": "2024-09-26T16:49:10.630823Z",
          "iopub.status.idle": "2024-09-26T16:49:10.634139Z",
          "shell.execute_reply": "2024-09-26T16:49:10.633669Z"
        },
        "id": "xtb2XchurBW6",
        "outputId": "874404af-1e1a-4824-a5d7-08de42b7b9b0"
      },
      "outputs": [
        {
          "name": "stdout",
          "output_type": "stream",
          "text": [
            "Example Label: getting_spare_card\n",
            "Example Text: can i have another card in addition to my first one?\n"
          ]
        }
      ],
      "source": [
        "i = 0\n",
        "print(f\"Example Label: {raw_train_labels[i]}\")\n",
        "print(f\"Example Text: {raw_train_texts[i]}\")"
      ]
    },
    {
      "cell_type": "markdown",
      "metadata": {
        "id": "ALTOYHvErBW6"
      },
      "source": [
        "The data is stored as two numpy arrays for each the train and test set:\n",
        "\n",
        "1. `raw_train_texts` and `raw_test_texts` store the customer service requests utterances in text format\n",
        "2. `raw_train_labels` and `raw_test_labels` store the intent categories (labels) for each example\n"
      ]
    },
    {
      "cell_type": "markdown",
      "metadata": {
        "id": "BohwWKgxrBW6"
      },
      "source": [
        "First, we need to perform label enconding on the labels, cleanlab's functions require the labels for each example to be an interger integer in 0, 1, …, num_classes - 1. We will use sklearn's `LabelEncoder` to encode our labels.\n"
      ]
    },
    {
      "cell_type": "code",
      "execution_count": 9,
      "metadata": {
        "execution": {
          "iopub.execute_input": "2024-09-26T16:49:10.635872Z",
          "iopub.status.busy": "2024-09-26T16:49:10.635697Z",
          "iopub.status.idle": "2024-09-26T16:49:10.639185Z",
          "shell.execute_reply": "2024-09-26T16:49:10.638701Z"
        },
        "id": "_9FUvnOkrBW6"
      },
      "outputs": [],
      "source": [
        "encoder = LabelEncoder()\n",
        "encoder.fit(raw_train_labels)\n",
        "\n",
        "train_labels = encoder.transform(raw_train_labels)\n",
        "test_labels = encoder.transform(raw_test_labels)"
      ]
    },
    {
      "cell_type": "markdown",
      "metadata": {
        "id": "cwR3KocnrBW7"
      },
      "source": [
        "Next we convert the text strings into vectors better suited as inputs for our ML model.\n",
        "\n",
        "We will use numeric representations from a pretrained Transformer model as embeddings of our text. The [Sentence Transformers](https://huggingface.co/docs/hub/sentence-transformers) library offers simple methods to compute these embeddings for text data. Here, we load the pretrained `electra-small-discriminator` model, and then run our data through network to extract a vector embedding of each example."
      ]
    },
    {
      "cell_type": "code",
      "execution_count": 10,
      "metadata": {
        "colab": {
          "referenced_widgets": [
            "fe0d16c2012742528008201575ec11b2",
            "0d5fabda04174b0b9c51c1904323dc5e",
            "6bd258e742db49ed90504e14d8296906",
            "dd5be0a3af7942c6bb5c0fc2f93b4f18",
            "8b93e748a3af4361a4fda40960580001",
            "977079a8360e4b988eda0d7db31d7b2e",
            "c7fc13789710486e886c1ac6a2a957e5"
          ]
        },
        "execution": {
          "iopub.execute_input": "2024-09-26T16:49:10.640880Z",
          "iopub.status.busy": "2024-09-26T16:49:10.640709Z",
          "iopub.status.idle": "2024-09-26T16:49:15.532103Z",
          "shell.execute_reply": "2024-09-26T16:49:15.531404Z"
        },
        "id": "nfQCUHZkrBW7",
        "outputId": "29a3ea99-3910-4901-d419-7498d7d4eb7a"
      },
      "outputs": [
        {
          "name": "stderr",
          "output_type": "stream",
          "text": [
            "No sentence-transformers model found with name google/electra-small-discriminator. Creating a new one with mean pooling.\n"
          ]
        }
      ],
      "source": [
        "transformer = SentenceTransformer('google/electra-small-discriminator')\n",
        "\n",
        "train_texts = transformer.encode(raw_train_texts)\n",
        "test_texts = transformer.encode(raw_test_texts)"
      ]
    },
    {
      "cell_type": "markdown",
      "metadata": {
        "id": "1BvVrzgRrBW7"
      },
      "source": [
        "## 3. Define a classification model and use cleanlab to find potential label errors\n",
        "\n",
        "<a id=\"section3\"></a>"
      ]
    },
    {
      "cell_type": "code",
      "execution_count": 11,
      "metadata": {
        "execution": {
          "iopub.execute_input": "2024-09-26T16:49:15.534597Z",
          "iopub.status.busy": "2024-09-26T16:49:15.534220Z",
          "iopub.status.idle": "2024-09-26T16:49:15.537224Z",
          "shell.execute_reply": "2024-09-26T16:49:15.536658Z"
        },
        "id": "nC5pK6FYrBW7"
      },
      "outputs": [],
      "source": [
        "model = LogisticRegression(max_iter=400)"
      ]
    },
    {
      "cell_type": "code",
      "execution_count": 12,
      "metadata": {
        "execution": {
          "iopub.execute_input": "2024-09-26T16:49:15.538908Z",
          "iopub.status.busy": "2024-09-26T16:49:15.538580Z",
          "iopub.status.idle": "2024-09-26T16:49:15.541368Z",
          "shell.execute_reply": "2024-09-26T16:49:15.540812Z"
        },
        "id": "6nSLqNoWrBW7"
      },
      "outputs": [],
      "source": [
        "cv_n_folds = 5  # for efficiency; values like 5 or 10 will generally work better\n",
        "\n",
        "cl = CleanLearning(model, cv_n_folds=cv_n_folds, verbose=True)\n",
        "cl_lexical = CleanLearning(model, cv_n_folds=cv_n_folds, verbose=True)"
      ]
    },
    {
      "cell_type": "code",
      "execution_count": 14,
      "metadata": {},
      "outputs": [
        {
          "name": "stdout",
          "output_type": "stream",
          "text": [
            "Computing label noise estimates from provided noise matrix ...\n",
            "Computing out of sample predicted probabilities via 5-fold cross validation. May take a while ...\n",
            "Computing lexical quality metrics...\n",
            "Using predicted probabilities to identify label issues ...\n",
            "Identified 43 examples with label issues.\n"
          ]
        }
      ],
      "source": [
        "label_issues_lexical = cl_lexical.find_label_issues(X=train_texts, labels=train_labels, X_raw=raw_train_texts)"
      ]
    },
    {
      "cell_type": "code",
      "execution_count": 15,
      "metadata": {
        "execution": {
          "iopub.execute_input": "2024-09-26T16:49:15.543106Z",
          "iopub.status.busy": "2024-09-26T16:49:15.542639Z",
          "iopub.status.idle": "2024-09-26T16:49:18.370498Z",
          "shell.execute_reply": "2024-09-26T16:49:18.369801Z"
        },
        "id": "4UPu79gnrBW7",
        "scrolled": true
      },
      "outputs": [
        {
          "name": "stdout",
          "output_type": "stream",
          "text": [
            "Computing out of sample predicted probabilities via 5-fold cross validation. May take a while ...\n"
          ]
        },
        {
          "name": "stdout",
          "output_type": "stream",
          "text": [
            "Using predicted probabilities to identify label issues ...\n",
            "Identified 39 examples with label issues.\n"
          ]
        }
      ],
      "source": [
        "label_issues_non_lexical = cl.find_label_issues(X=train_texts, labels=train_labels)"
      ]
    },
    {
      "cell_type": "code",
      "execution_count": 17,
      "metadata": {},
      "outputs": [],
      "source": [
        "def print_as_df(index):\n",
        "    return pd.DataFrame(\n",
        "        {\n",
        "            \"text\": raw_train_texts,\n",
        "            \"given_label\": raw_train_labels,\n",
        "            \"is_label_issue\": label_issues_lexical[\"is_label_issue\"],\n",
        "            \"predicted_label\": encoder.inverse_transform(label_issues_lexical[\"predicted_label\"]),\n",
        "        },\n",
        "    ).iloc[index]"
      ]
    },
    {
      "cell_type": "code",
      "execution_count": 18,
      "metadata": {},
      "outputs": [
        {
          "data": {
            "text/html": [
              "<div>\n",
              "<style scoped>\n",
              "    .dataframe tbody tr th:only-of-type {\n",
              "        vertical-align: middle;\n",
              "    }\n",
              "\n",
              "    .dataframe tbody tr th {\n",
              "        vertical-align: top;\n",
              "    }\n",
              "\n",
              "    .dataframe thead th {\n",
              "        text-align: right;\n",
              "    }\n",
              "</style>\n",
              "<table border=\"1\" class=\"dataframe\">\n",
              "  <thead>\n",
              "    <tr style=\"text-align: right;\">\n",
              "      <th></th>\n",
              "      <th>text</th>\n",
              "      <th>given_label</th>\n",
              "      <th>is_label_issue</th>\n",
              "      <th>predicted_label</th>\n",
              "    </tr>\n",
              "  </thead>\n",
              "  <tbody>\n",
              "    <tr>\n",
              "      <th>16</th>\n",
              "      <td>(A AND NOT B) OR (C AND NOT D) OR (B AND NOT C AND D)</td>\n",
              "      <td>change_pin</td>\n",
              "      <td>False</td>\n",
              "      <td>lost_or_stolen_phone</td>\n",
              "    </tr>\n",
              "    <tr>\n",
              "      <th>29</th>\n",
              "      <td>i'm on vacation in europe but i desperately need to change my pin. can i do this from abroad?</td>\n",
              "      <td>change_pin</td>\n",
              "      <td>False</td>\n",
              "      <td>lost_or_stolen_phone</td>\n",
              "    </tr>\n",
              "    <tr>\n",
              "      <th>66</th>\n",
              "      <td>will you accept my credit card?</td>\n",
              "      <td>supported_cards_and_currencies</td>\n",
              "      <td>True</td>\n",
              "      <td>visa_or_mastercard</td>\n",
              "    </tr>\n",
              "    <tr>\n",
              "      <th>84</th>\n",
              "      <td>if i want to can i set up a new pin?</td>\n",
              "      <td>change_pin</td>\n",
              "      <td>True</td>\n",
              "      <td>getting_spare_card</td>\n",
              "    </tr>\n",
              "    <tr>\n",
              "      <th>117</th>\n",
              "      <td>what card or currency can i use to pay?</td>\n",
              "      <td>supported_cards_and_currencies</td>\n",
              "      <td>True</td>\n",
              "      <td>visa_or_mastercard</td>\n",
              "    </tr>\n",
              "    <tr>\n",
              "      <th>121</th>\n",
              "      <td>Would you rather fight one horse-sized duck or 100 duck-sized horses?</td>\n",
              "      <td>lost_or_stolen_phone</td>\n",
              "      <td>False</td>\n",
              "      <td>change_pin</td>\n",
              "    </tr>\n",
              "    <tr>\n",
              "      <th>159</th>\n",
              "      <td>i didn't know i was going to get charged to use my card.</td>\n",
              "      <td>card_payment_fee_charged</td>\n",
              "      <td>True</td>\n",
              "      <td>beneficiary_not_allowed</td>\n",
              "    </tr>\n",
              "    <tr>\n",
              "      <th>164</th>\n",
              "      <td>what happens if a merchant doesn't accept  you payment?</td>\n",
              "      <td>change_pin</td>\n",
              "      <td>True</td>\n",
              "      <td>beneficiary_not_allowed</td>\n",
              "    </tr>\n",
              "    <tr>\n",
              "      <th>235</th>\n",
              "      <td>cancel transaction</td>\n",
              "      <td>cancel_transfer</td>\n",
              "      <td>True</td>\n",
              "      <td>supported_cards_and_currencies</td>\n",
              "    </tr>\n",
              "    <tr>\n",
              "      <th>282</th>\n",
              "      <td>I am an outlier :)</td>\n",
              "      <td>visa_or_mastercard</td>\n",
              "      <td>False</td>\n",
              "      <td>beneficiary_not_allowed</td>\n",
              "    </tr>\n",
              "    <tr>\n",
              "      <th>296</th>\n",
              "      <td>&lt;button onclick=\"alert('Bad, example!')\"&gt;Beep Beep!&lt;/button&gt;</td>\n",
              "      <td>apple_pay_or_google_pay</td>\n",
              "      <td>True</td>\n",
              "      <td>beneficiary_not_allowed</td>\n",
              "    </tr>\n",
              "    <tr>\n",
              "      <th>304</th>\n",
              "      <td>what is this extra fee?</td>\n",
              "      <td>card_payment_fee_charged</td>\n",
              "      <td>False</td>\n",
              "      <td>getting_spare_card</td>\n",
              "    </tr>\n",
              "    <tr>\n",
              "      <th>361</th>\n",
              "      <td>what currencies does google pay top up accept?</td>\n",
              "      <td>apple_pay_or_google_pay</td>\n",
              "      <td>True</td>\n",
              "      <td>supported_cards_and_currencies</td>\n",
              "    </tr>\n",
              "    <tr>\n",
              "      <th>386</th>\n",
              "      <td>why hasn't my payment shown up yet?</td>\n",
              "      <td>lost_or_stolen_phone</td>\n",
              "      <td>False</td>\n",
              "      <td>card_about_to_expire</td>\n",
              "    </tr>\n",
              "    <tr>\n",
              "      <th>399</th>\n",
              "      <td>why is my payment still pending?</td>\n",
              "      <td>lost_or_stolen_phone</td>\n",
              "      <td>False</td>\n",
              "      <td>card_about_to_expire</td>\n",
              "    </tr>\n",
              "    <tr>\n",
              "      <th>441</th>\n",
              "      <td>help me with a pin change.</td>\n",
              "      <td>change_pin</td>\n",
              "      <td>True</td>\n",
              "      <td>getting_spare_card</td>\n",
              "    </tr>\n",
              "    <tr>\n",
              "      <th>455</th>\n",
              "      <td>my transaction is on the wrong account.</td>\n",
              "      <td>cancel_transfer</td>\n",
              "      <td>False</td>\n",
              "      <td>cancel_transfer</td>\n",
              "    </tr>\n",
              "    <tr>\n",
              "      <th>456</th>\n",
              "      <td>636C65616E6C616220697320617765736F6D6521</td>\n",
              "      <td>cancel_transfer</td>\n",
              "      <td>False</td>\n",
              "      <td>beneficiary_not_allowed</td>\n",
              "    </tr>\n",
              "    <tr>\n",
              "      <th>470</th>\n",
              "      <td>how long does it take for a top up to be approved?</td>\n",
              "      <td>cancel_transfer</td>\n",
              "      <td>True</td>\n",
              "      <td>supported_cards_and_currencies</td>\n",
              "    </tr>\n",
              "    <tr>\n",
              "      <th>475</th>\n",
              "      <td>please tell me if i'm going to be charged for sending out more cards?</td>\n",
              "      <td>getting_spare_card</td>\n",
              "      <td>True</td>\n",
              "      <td>card_payment_fee_charged</td>\n",
              "    </tr>\n",
              "    <tr>\n",
              "      <th>608</th>\n",
              "      <td>my money didnt go through after i transferred.</td>\n",
              "      <td>beneficiary_not_allowed</td>\n",
              "      <td>True</td>\n",
              "      <td>card_payment_fee_charged</td>\n",
              "    </tr>\n",
              "    <tr>\n",
              "      <th>624</th>\n",
              "      <td>i need a new card.</td>\n",
              "      <td>getting_spare_card</td>\n",
              "      <td>True</td>\n",
              "      <td>card_about_to_expire</td>\n",
              "    </tr>\n",
              "    <tr>\n",
              "      <th>634</th>\n",
              "      <td>why are there fees for using a card?</td>\n",
              "      <td>card_payment_fee_charged</td>\n",
              "      <td>False</td>\n",
              "      <td>card_payment_fee_charged</td>\n",
              "    </tr>\n",
              "    <tr>\n",
              "      <th>660</th>\n",
              "      <td>why is there a fee when i thought there would be no fees?</td>\n",
              "      <td>card_payment_fee_charged</td>\n",
              "      <td>True</td>\n",
              "      <td>beneficiary_not_allowed</td>\n",
              "    </tr>\n",
              "    <tr>\n",
              "      <th>735</th>\n",
              "      <td>how do i avoid charges in the future</td>\n",
              "      <td>card_payment_fee_charged</td>\n",
              "      <td>False</td>\n",
              "      <td>card_about_to_expire</td>\n",
              "    </tr>\n",
              "    <tr>\n",
              "      <th>804</th>\n",
              "      <td>i'm still waiting for my transaction.</td>\n",
              "      <td>supported_cards_and_currencies</td>\n",
              "      <td>True</td>\n",
              "      <td>beneficiary_not_allowed</td>\n",
              "    </tr>\n",
              "  </tbody>\n",
              "</table>\n",
              "</div>"
            ],
            "text/plain": [
              "                                                                                              text  \\\n",
              "16                                           (A AND NOT B) OR (C AND NOT D) OR (B AND NOT C AND D)   \n",
              "29   i'm on vacation in europe but i desperately need to change my pin. can i do this from abroad?   \n",
              "66                                                                 will you accept my credit card?   \n",
              "84                                                            if i want to can i set up a new pin?   \n",
              "117                                                        what card or currency can i use to pay?   \n",
              "121                          Would you rather fight one horse-sized duck or 100 duck-sized horses?   \n",
              "159                                       i didn't know i was going to get charged to use my card.   \n",
              "164                                        what happens if a merchant doesn't accept  you payment?   \n",
              "235                                                                             cancel transaction   \n",
              "282                                                                             I am an outlier :)   \n",
              "296                                   <button onclick=\"alert('Bad, example!')\">Beep Beep!</button>   \n",
              "304                                                                        what is this extra fee?   \n",
              "361                                                 what currencies does google pay top up accept?   \n",
              "386                                                            why hasn't my payment shown up yet?   \n",
              "399                                                               why is my payment still pending?   \n",
              "441                                                                     help me with a pin change.   \n",
              "455                                                        my transaction is on the wrong account.   \n",
              "456                                                       636C65616E6C616220697320617765736F6D6521   \n",
              "470                                             how long does it take for a top up to be approved?   \n",
              "475                          please tell me if i'm going to be charged for sending out more cards?   \n",
              "608                                                 my money didnt go through after i transferred.   \n",
              "624                                                                             i need a new card.   \n",
              "634                                                           why are there fees for using a card?   \n",
              "660                                      why is there a fee when i thought there would be no fees?   \n",
              "735                                                           how do i avoid charges in the future   \n",
              "804                                                          i'm still waiting for my transaction.   \n",
              "\n",
              "                        given_label  is_label_issue  \\\n",
              "16                       change_pin           False   \n",
              "29                       change_pin           False   \n",
              "66   supported_cards_and_currencies            True   \n",
              "84                       change_pin            True   \n",
              "117  supported_cards_and_currencies            True   \n",
              "121            lost_or_stolen_phone           False   \n",
              "159        card_payment_fee_charged            True   \n",
              "164                      change_pin            True   \n",
              "235                 cancel_transfer            True   \n",
              "282              visa_or_mastercard           False   \n",
              "296         apple_pay_or_google_pay            True   \n",
              "304        card_payment_fee_charged           False   \n",
              "361         apple_pay_or_google_pay            True   \n",
              "386            lost_or_stolen_phone           False   \n",
              "399            lost_or_stolen_phone           False   \n",
              "441                      change_pin            True   \n",
              "455                 cancel_transfer           False   \n",
              "456                 cancel_transfer           False   \n",
              "470                 cancel_transfer            True   \n",
              "475              getting_spare_card            True   \n",
              "608         beneficiary_not_allowed            True   \n",
              "624              getting_spare_card            True   \n",
              "634        card_payment_fee_charged           False   \n",
              "660        card_payment_fee_charged            True   \n",
              "735        card_payment_fee_charged           False   \n",
              "804  supported_cards_and_currencies            True   \n",
              "\n",
              "                    predicted_label  \n",
              "16             lost_or_stolen_phone  \n",
              "29             lost_or_stolen_phone  \n",
              "66               visa_or_mastercard  \n",
              "84               getting_spare_card  \n",
              "117              visa_or_mastercard  \n",
              "121                      change_pin  \n",
              "159         beneficiary_not_allowed  \n",
              "164         beneficiary_not_allowed  \n",
              "235  supported_cards_and_currencies  \n",
              "282         beneficiary_not_allowed  \n",
              "296         beneficiary_not_allowed  \n",
              "304              getting_spare_card  \n",
              "361  supported_cards_and_currencies  \n",
              "386            card_about_to_expire  \n",
              "399            card_about_to_expire  \n",
              "441              getting_spare_card  \n",
              "455                 cancel_transfer  \n",
              "456         beneficiary_not_allowed  \n",
              "470  supported_cards_and_currencies  \n",
              "475        card_payment_fee_charged  \n",
              "608        card_payment_fee_charged  \n",
              "624            card_about_to_expire  \n",
              "634        card_payment_fee_charged  \n",
              "660         beneficiary_not_allowed  \n",
              "735            card_about_to_expire  \n",
              "804         beneficiary_not_allowed  "
            ]
          },
          "execution_count": 18,
          "metadata": {},
          "output_type": "execute_result"
        }
      ],
      "source": [
        "print_as_df(label_issues_lexical[label_issues_lexical['is_label_issue'] ^ label_issues_non_lexical['is_label_issue']].index)"
      ]
    },
    {
      "cell_type": "markdown",
      "metadata": {},
      "source": [
        "The above table shows the difference between using label_issues with lexical quality metrics and label_issues with non lexical quality metrics (XOR). Even though, only 4 more label issues. 26 different outcomes for label issues. We can observe a few phenomenoms:\n"
      ]
    },
    {
      "cell_type": "code",
      "execution_count": 20,
      "metadata": {},
      "outputs": [
        {
          "data": {
            "text/html": [
              "<div>\n",
              "<style scoped>\n",
              "    .dataframe tbody tr th:only-of-type {\n",
              "        vertical-align: middle;\n",
              "    }\n",
              "\n",
              "    .dataframe tbody tr th {\n",
              "        vertical-align: top;\n",
              "    }\n",
              "\n",
              "    .dataframe thead th {\n",
              "        text-align: right;\n",
              "    }\n",
              "</style>\n",
              "<table border=\"1\" class=\"dataframe\">\n",
              "  <thead>\n",
              "    <tr style=\"text-align: right;\">\n",
              "      <th></th>\n",
              "      <th>text</th>\n",
              "      <th>given_label</th>\n",
              "      <th>is_label_issue</th>\n",
              "      <th>predicted_label</th>\n",
              "    </tr>\n",
              "  </thead>\n",
              "  <tbody>\n",
              "    <tr>\n",
              "      <th>296</th>\n",
              "      <td>&lt;button onclick=\"alert('Bad, example!')\"&gt;Beep Beep!&lt;/button&gt;</td>\n",
              "      <td>apple_pay_or_google_pay</td>\n",
              "      <td>True</td>\n",
              "      <td>beneficiary_not_allowed</td>\n",
              "    </tr>\n",
              "    <tr>\n",
              "      <th>164</th>\n",
              "      <td>what happens if a merchant doesn't accept  you payment?</td>\n",
              "      <td>change_pin</td>\n",
              "      <td>True</td>\n",
              "      <td>beneficiary_not_allowed</td>\n",
              "    </tr>\n",
              "    <tr>\n",
              "      <th>235</th>\n",
              "      <td>cancel transaction</td>\n",
              "      <td>cancel_transfer</td>\n",
              "      <td>True</td>\n",
              "      <td>supported_cards_and_currencies</td>\n",
              "    </tr>\n",
              "  </tbody>\n",
              "</table>\n",
              "</div>"
            ],
            "text/plain": [
              "                                                             text  \\\n",
              "296  <button onclick=\"alert('Bad, example!')\">Beep Beep!</button>   \n",
              "164       what happens if a merchant doesn't accept  you payment?   \n",
              "235                                            cancel transaction   \n",
              "\n",
              "                 given_label  is_label_issue                 predicted_label  \n",
              "296  apple_pay_or_google_pay            True         beneficiary_not_allowed  \n",
              "164               change_pin            True         beneficiary_not_allowed  \n",
              "235          cancel_transfer            True  supported_cards_and_currencies  "
            ]
          },
          "execution_count": 20,
          "metadata": {},
          "output_type": "execute_result"
        }
      ],
      "source": [
        "# Examples where quality metric helped, where they weren't seen as anomalies but became. For example\n",
        "print_as_df([296, 164, 235])"
      ]
    },
    {
      "cell_type": "code",
      "execution_count": 21,
      "metadata": {},
      "outputs": [
        {
          "data": {
            "text/html": [
              "<div>\n",
              "<style scoped>\n",
              "    .dataframe tbody tr th:only-of-type {\n",
              "        vertical-align: middle;\n",
              "    }\n",
              "\n",
              "    .dataframe tbody tr th {\n",
              "        vertical-align: top;\n",
              "    }\n",
              "\n",
              "    .dataframe thead th {\n",
              "        text-align: right;\n",
              "    }\n",
              "</style>\n",
              "<table border=\"1\" class=\"dataframe\">\n",
              "  <thead>\n",
              "    <tr style=\"text-align: right;\">\n",
              "      <th></th>\n",
              "      <th>text</th>\n",
              "      <th>given_label</th>\n",
              "      <th>is_label_issue</th>\n",
              "      <th>predicted_label</th>\n",
              "    </tr>\n",
              "  </thead>\n",
              "  <tbody>\n",
              "    <tr>\n",
              "      <th>282</th>\n",
              "      <td>I am an outlier :)</td>\n",
              "      <td>visa_or_mastercard</td>\n",
              "      <td>False</td>\n",
              "      <td>beneficiary_not_allowed</td>\n",
              "    </tr>\n",
              "    <tr>\n",
              "      <th>16</th>\n",
              "      <td>(A AND NOT B) OR (C AND NOT D) OR (B AND NOT C AND D)</td>\n",
              "      <td>change_pin</td>\n",
              "      <td>False</td>\n",
              "      <td>lost_or_stolen_phone</td>\n",
              "    </tr>\n",
              "    <tr>\n",
              "      <th>121</th>\n",
              "      <td>Would you rather fight one horse-sized duck or 100 duck-sized horses?</td>\n",
              "      <td>lost_or_stolen_phone</td>\n",
              "      <td>False</td>\n",
              "      <td>change_pin</td>\n",
              "    </tr>\n",
              "  </tbody>\n",
              "</table>\n",
              "</div>"
            ],
            "text/plain": [
              "                                                                      text  \\\n",
              "282                                                     I am an outlier :)   \n",
              "16                   (A AND NOT B) OR (C AND NOT D) OR (B AND NOT C AND D)   \n",
              "121  Would you rather fight one horse-sized duck or 100 duck-sized horses?   \n",
              "\n",
              "              given_label  is_label_issue          predicted_label  \n",
              "282    visa_or_mastercard           False  beneficiary_not_allowed  \n",
              "16             change_pin           False     lost_or_stolen_phone  \n",
              "121  lost_or_stolen_phone           False               change_pin  "
            ]
          },
          "execution_count": 21,
          "metadata": {},
          "output_type": "execute_result"
        }
      ],
      "source": [
        "# However, it seems that if the there is no errors it is pretty much passing. for example:\n",
        "print_as_df([282, 16, 121])\n"
      ]
    },
    {
      "cell_type": "markdown",
      "metadata": {},
      "source": [
        "From the example above, overall it did help change many to the correct. One pattern that perfectly written but no realations to the label will almost always pass. We can modify it by marginally rewarding less when the difference is high. Maybe a sigmoid function."
      ]
    }
  ],
  "metadata": {
    "colab": {
      "name": "Text x TensorFlow",
      "provenance": []
    },
    "kernelspec": {
      "display_name": "ENV",
      "language": "python",
      "name": "python3"
    },
    "language_info": {
      "codemirror_mode": {
        "name": "ipython",
        "version": 3
      },
      "file_extension": ".py",
      "mimetype": "text/x-python",
      "name": "python",
      "nbconvert_exporter": "python",
      "pygments_lexer": "ipython3",
      "version": "3.11.9"
    },
    "widgets": {
      "application/vnd.jupyter.widget-state+json": {}
    }
  },
  "nbformat": 4,
  "nbformat_minor": 0
}
